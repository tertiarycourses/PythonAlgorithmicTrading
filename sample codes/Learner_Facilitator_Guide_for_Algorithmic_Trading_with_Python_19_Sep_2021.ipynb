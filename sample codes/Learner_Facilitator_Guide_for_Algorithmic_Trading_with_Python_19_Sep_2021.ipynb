{
  "nbformat": 4,
  "nbformat_minor": 0,
  "metadata": {
    "colab": {
      "name": "Learner/Facilitator Guide for Algorithmic Trading with Python  - 19 Sep 2021.ipynb",
      "provenance": []
    },
    "kernelspec": {
      "name": "python3",
      "display_name": "Python 3"
    },
    "language_info": {
      "name": "python"
    }
  },
  "cells": [
    {
      "cell_type": "markdown",
      "metadata": {
        "id": "SfF7sCWn4y9-"
      },
      "source": [
        "# Learner/Facilitator Guide for Algorithmic Trading with Python"
      ]
    },
    {
      "cell_type": "markdown",
      "metadata": {
        "id": "hsuzqKpsWm8s"
      },
      "source": [
        "## Topic 2. Quantitative Momentum Investing Strategy\n",
        "\"Momentum investing\" means investing in the stocks that have increased in price the most."
      ]
    },
    {
      "cell_type": "markdown",
      "metadata": {
        "id": "fLjaPg8ccMXK"
      },
      "source": [
        "### Momentum-less Investment Srategy"
      ]
    },
    {
      "cell_type": "markdown",
      "metadata": {
        "id": "NY8L8I6fWyFZ"
      },
      "source": [
        "#### Import Libraries and Test API"
      ]
    },
    {
      "cell_type": "code",
      "metadata": {
        "id": "hDHD75QH_xXi"
      },
      "source": [
        "import numpy as np #The Numpy numerical computing library\n",
        "import pandas as pd #The Pandas data science library\n",
        "import requests #The requests library for HTTP requests in Python\n",
        "import math #The Python math module"
      ],
      "execution_count": null,
      "outputs": []
    },
    {
      "cell_type": "markdown",
      "metadata": {
        "id": "gk_IOjMTNR5S"
      },
      "source": [
        "Now it's time to import our IEX Cloud API token. This is the data provider that we will be using throughout this course.\n",
        "\n",
        "API tokens (and other sensitive information) should be stored in a secrets.py file that doesn't get pushed to your local Git repository. We'll be using a sandbox API token in this course, which means that the data we'll use is randomly-generated and (more importantly) has no cost associated with it."
      ]
    },
    {
      "cell_type": "code",
      "metadata": {
        "id": "yaDkn6z9AdNi"
      },
      "source": [
        "# Replace your own IEX Cloud Sandbox API\n",
        "IEX_CLOUD_API_TOKEN = 'Tpk_059b97af715d417d9f49f50b51b1c448'"
      ],
      "execution_count": null,
      "outputs": []
    },
    {
      "cell_type": "markdown",
      "metadata": {
        "id": "qUdKT2-3NhYz"
      },
      "source": [
        "ow it's time to structure our API calls to IEX cloud.\n",
        "\n",
        "We need the following information from the API:\n",
        "\n",
        "Market capitalization for the stock\n",
        "Price of each stock"
      ]
    },
    {
      "cell_type": "code",
      "metadata": {
        "id": "OIF0HaO4_yFa"
      },
      "source": [
        "symbol='AAPL'\n",
        "api_url = f'https://sandbox.iexapis.com/stable/stock/{symbol}/quote?token={IEX_CLOUD_API_TOKEN}'\n",
        "data = requests.get(api_url).json()\n",
        "data"
      ],
      "execution_count": null,
      "outputs": []
    },
    {
      "cell_type": "code",
      "metadata": {
        "id": "KXEh2Gg9BKlD"
      },
      "source": [
        "print('Latest Price = ', data['latestPrice'])\n",
        "print('Market Capitalization = ', data['marketCap'])"
      ],
      "execution_count": null,
      "outputs": []
    },
    {
      "cell_type": "markdown",
      "metadata": {
        "id": "GhYilA6UOBjR"
      },
      "source": [
        "#### Adding Our Stocks Data to a Pandas DataFrame\n",
        "The next thing we need to do is add our stock's price and market capitalization to a pandas DataFrame. Think of a DataFrame like the Python version of a spreadsheet. It stores tabular data."
      ]
    },
    {
      "cell_type": "code",
      "metadata": {
        "id": "GOyDFmJRAZHE"
      },
      "source": [
        "my_columns = ['Ticker', 'Price','Market Capitalization', 'Number Of Shares to Buy']\n",
        "df = pd.DataFrame(columns = my_columns)\n",
        "df"
      ],
      "execution_count": null,
      "outputs": []
    },
    {
      "cell_type": "code",
      "metadata": {
        "id": "LvPcBlRzDukH"
      },
      "source": [
        "df  = df.append(\n",
        "                                        pd.Series(['AAPL', \n",
        "                                                   data['latestPrice'], \n",
        "                                                   data['marketCap'], \n",
        "                                                   'N/A'], \n",
        "                                                  index = my_columns), \n",
        "                                        ignore_index = True)\n"
      ],
      "execution_count": null,
      "outputs": []
    },
    {
      "cell_type": "code",
      "metadata": {
        "id": "OD3qIKXLPPFS"
      },
      "source": [
        "df"
      ],
      "execution_count": null,
      "outputs": []
    },
    {
      "cell_type": "markdown",
      "metadata": {
        "id": "Unsblmz2Oqr1"
      },
      "source": [
        "#### Looping Through The Tickers in Our List of Stocks"
      ]
    },
    {
      "cell_type": "code",
      "metadata": {
        "id": "KMCpk7yyELUs"
      },
      "source": [
        "stocks = pd.read_csv('stock_lists.csv')"
      ],
      "execution_count": null,
      "outputs": []
    },
    {
      "cell_type": "code",
      "metadata": {
        "id": "XcICx1VKDxhi"
      },
      "source": [
        "my_columns = ['Ticker', 'Price','Market Capitalization', 'Number Of Shares to Buy']\n",
        "df = pd.DataFrame(columns = my_columns)\n",
        "for symbol in stocks['Ticker']:\n",
        "    api_url = f'https://sandbox.iexapis.com/stable/stock/{symbol}/quote?token={IEX_CLOUD_API_TOKEN}'\n",
        "    data = requests.get(api_url).json()\n",
        "    df = df.append(\n",
        "                                        pd.Series([symbol, \n",
        "                                                   data['latestPrice'], \n",
        "                                                   data['marketCap'], \n",
        "                                                   'N/A'], \n",
        "                                                  index = my_columns), \n",
        "                                        ignore_index = True)\n"
      ],
      "execution_count": null,
      "outputs": []
    },
    {
      "cell_type": "code",
      "metadata": {
        "id": "7ojVBJTqFeQQ"
      },
      "source": [
        "df"
      ],
      "execution_count": null,
      "outputs": []
    },
    {
      "cell_type": "code",
      "metadata": {
        "id": "V5hMGvSmFkK1"
      },
      "source": [
        "portfolio_size = input(\"Enter the value of your portfolio:\")\n",
        "\n",
        "try:\n",
        "    val = float(portfolio_size)\n",
        "except ValueError:\n",
        "    print(\"That's not a number! \\n Try again:\")\n",
        "    portfolio_size = input(\"Enter the value of your portfolio:\")"
      ],
      "execution_count": null,
      "outputs": []
    },
    {
      "cell_type": "code",
      "metadata": {
        "id": "grcoR7_wFpqz"
      },
      "source": [
        "position_size = float(portfolio_size) / len(df.index)\n",
        "for i in range(0, len(df['Ticker'])):\n",
        "    df.loc[i, 'Number Of Shares to Buy'] = math.floor(position_size / df['Price'][i])\n"
      ],
      "execution_count": null,
      "outputs": []
    },
    {
      "cell_type": "code",
      "metadata": {
        "id": "fenpHjdmFtz5"
      },
      "source": [
        "df"
      ],
      "execution_count": null,
      "outputs": []
    },
    {
      "cell_type": "markdown",
      "metadata": {
        "id": "xPD3SJzmW8th"
      },
      "source": [
        "###  Momentum Investment Strategy"
      ]
    },
    {
      "cell_type": "markdown",
      "metadata": {
        "id": "Ci-Cg8z8aOsI"
      },
      "source": [
        "#### Import Libraries and Test API"
      ]
    },
    {
      "cell_type": "code",
      "metadata": {
        "id": "MQjIn5gpPw2r"
      },
      "source": [
        "import numpy as np #The Numpy numerical computing library\n",
        "import pandas as pd #The Pandas data science library\n",
        "import requests #The requests library for HTTP requests in Python\n",
        "import math #The Python math module\n",
        "from scipy import stats #The SciPy stats module"
      ],
      "execution_count": null,
      "outputs": []
    },
    {
      "cell_type": "code",
      "metadata": {
        "id": "KymflrhoXLnZ"
      },
      "source": [
        "# Replace your own IEX Cloud Sandbox API\n",
        "IEX_CLOUD_API_TOKEN = 'Tpk_059b97af715d417d9f49f50b51b1c448'"
      ],
      "execution_count": null,
      "outputs": []
    },
    {
      "cell_type": "code",
      "metadata": {
        "id": "vnEFfSCZXQqE"
      },
      "source": [
        "symbol = 'AAPL'\n",
        "api_url = f'https://sandbox.iexapis.com/stable/stock/{symbol}/stats?token={IEX_CLOUD_API_TOKEN}'\n",
        "data = requests.get(api_url).json()\n",
        "data"
      ],
      "execution_count": null,
      "outputs": []
    },
    {
      "cell_type": "code",
      "metadata": {
        "id": "XTyIkuz-XTur"
      },
      "source": [
        "data['year1ChangePercent']"
      ],
      "execution_count": null,
      "outputs": []
    },
    {
      "cell_type": "markdown",
      "metadata": {
        "id": "ljVKj-LZaZ9P"
      },
      "source": [
        "#### Importing Our List of Stocks\n",
        "\n",
        "As before, we'll need to import our list of stocks and our API token before proceeding. Make sure the `.csv` file is still in your working directory and import it with the following command:"
      ]
    },
    {
      "cell_type": "code",
      "metadata": {
        "id": "szDM4Z3EXDyp"
      },
      "source": [
        "stocks = pd.read_csv('sp_500_stocks.csv')"
      ],
      "execution_count": null,
      "outputs": []
    },
    {
      "cell_type": "markdown",
      "metadata": {
        "id": "UCG0OrexgfSU"
      },
      "source": [
        "#### Executing A Batch API Call & Building Our DataFrame\n",
        "\n",
        "It's now time to execute several batch API calls and add the information we need to our DataFrame.\n",
        "\n",
        "We'll start by running the following code cellt. It contains a function called `chunks` that we can use to divide our list of securities into groups of 100."
      ]
    },
    {
      "cell_type": "code",
      "metadata": {
        "id": "oCIrV-HpXc1x"
      },
      "source": [
        "def chunks(lst, n):\n",
        "    \"\"\"Yield successive n-sized chunks from lst.\"\"\"\n",
        "    for i in range(0, len(lst), n):\n",
        "        yield lst[i:i + n]   \n",
        "        \n",
        "symbol_groups = list(chunks(stocks['Ticker'], 100))\n",
        "symbol_strings = []\n",
        "for i in range(0, len(symbol_groups)):\n",
        "    symbol_strings.append(','.join(symbol_groups[i]))\n",
        "#     print(symbol_strings[i])\n",
        "\n",
        "my_columns = ['Ticker', 'Price', 'One-Year Price Return', 'Number of Shares to Buy']"
      ],
      "execution_count": null,
      "outputs": []
    },
    {
      "cell_type": "code",
      "metadata": {
        "id": "6Fnxa5RZXebN"
      },
      "source": [
        "final_dataframe = pd.DataFrame(columns = my_columns)\n",
        "\n",
        "for symbol_string in symbol_strings:\n",
        "#     print(symbol_strings)\n",
        "    batch_api_call_url = f'https://sandbox.iexapis.com/stable/stock/market/batch/?types=stats,quote&symbols={symbol_string}&token={IEX_CLOUD_API_TOKEN}'\n",
        "    data = requests.get(batch_api_call_url).json()\n",
        "    for symbol in symbol_string.split(','):\n",
        "        final_dataframe = final_dataframe.append(\n",
        "                                        pd.Series([symbol, \n",
        "                                                   data[symbol]['quote']['latestPrice'],\n",
        "                                                   data[symbol]['stats']['year1ChangePercent'],\n",
        "                                                   'N/A'\n",
        "                                                   ], \n",
        "                                                  index = my_columns), \n",
        "                                        ignore_index = True)\n",
        "        \n",
        "    \n",
        "final_dataframe"
      ],
      "execution_count": null,
      "outputs": []
    },
    {
      "cell_type": "markdown",
      "metadata": {
        "id": "ywsDHLEEg0HW"
      },
      "source": [
        "#### Removing Low-Momentum Stocks\n",
        "\n",
        "The investment strategy that we're building seeks to identify the 50 highest-momentum stocks in the S&P 500.\n",
        "\n",
        "Because of this, the next thing we need to do is remove all the stocks in our DataFrame that fall below this momentum threshold. We'll sort the DataFrame by the stocks' one-year price return, and drop all stocks outside the top 50."
      ]
    },
    {
      "cell_type": "code",
      "metadata": {
        "id": "9Eiw7mZlXiWd"
      },
      "source": [
        "final_dataframe.sort_values('One-Year Price Return', ascending = False, inplace = True)\n",
        "final_dataframe = final_dataframe[:51]\n",
        "final_dataframe.reset_index(drop = True, inplace = True)\n",
        "final_dataframe"
      ],
      "execution_count": null,
      "outputs": []
    },
    {
      "cell_type": "code",
      "metadata": {
        "id": "scmWGIwjXnYF"
      },
      "source": [
        "def portfolio_input():\n",
        "    global portfolio_size\n",
        "    portfolio_size = input(\"Enter the value of your portfolio:\")\n",
        "\n",
        "    try:\n",
        "        val = float(portfolio_size)\n",
        "    except ValueError:\n",
        "        print(\"That's not a number! \\n Try again:\")\n",
        "        portfolio_size = input(\"Enter the value of your portfolio:\")\n",
        "\n",
        "portfolio_input()\n",
        "print(portfolio_size)"
      ],
      "execution_count": null,
      "outputs": []
    },
    {
      "cell_type": "code",
      "metadata": {
        "id": "IUcdrnDjXqSw"
      },
      "source": [
        "position_size = float(portfolio_size) / len(final_dataframe.index)\n",
        "for i in range(0, len(final_dataframe['Ticker'])):\n",
        "    final_dataframe.loc[i, 'Number of Shares to Buy'] = math.floor(position_size / final_dataframe['Price'][i])\n",
        "final_dataframe"
      ],
      "execution_count": null,
      "outputs": []
    },
    {
      "cell_type": "markdown",
      "metadata": {
        "id": "Mmug24Pfmtq-"
      },
      "source": [
        "### Activity: Momentum Investing"
      ]
    },
    {
      "cell_type": "code",
      "metadata": {
        "id": "8RX9vTUvYAIF"
      },
      "source": [
        "import numpy as np #The Numpy numerical computing library\n",
        "import pandas as pd #The Pandas data science library\n",
        "import requests #The requests library for HTTP requests in Python\n",
        "import math #The Python math module\n",
        "from scipy import stats #The SciPy stats module"
      ],
      "execution_count": null,
      "outputs": []
    },
    {
      "cell_type": "code",
      "metadata": {
        "id": "K7Tjx8Yrm0SQ"
      },
      "source": [
        "# Replace your own IEX Cloud Sandbox API\n",
        "IEX_CLOUD_API_TOKEN = 'Tpk_059b97af715d417d9f49f50b51b1c448'"
      ],
      "execution_count": null,
      "outputs": []
    },
    {
      "cell_type": "code",
      "metadata": {
        "id": "BQeQQpStm2Ny"
      },
      "source": [
        "symbol = 'AAPL'\n",
        "api_url = f'https://sandbox.iexapis.com/stable/stock/{symbol}/stats?token={IEX_CLOUD_API_TOKEN}'\n",
        "data = requests.get(api_url).json()\n",
        "data"
      ],
      "execution_count": null,
      "outputs": []
    },
    {
      "cell_type": "code",
      "metadata": {
        "id": "0lcx6QSLm4sg"
      },
      "source": [
        "data['month1ChangePercent']"
      ],
      "execution_count": null,
      "outputs": []
    },
    {
      "cell_type": "code",
      "metadata": {
        "id": "8VbSfxPtm8x9"
      },
      "source": [
        "stocks = pd.read_csv('sp_500_stocks.csv')"
      ],
      "execution_count": null,
      "outputs": []
    },
    {
      "cell_type": "code",
      "metadata": {
        "id": "AIel24NXnAAq"
      },
      "source": [
        "def chunks(lst, n):\n",
        "    \"\"\"Yield successive n-sized chunks from lst.\"\"\"\n",
        "    for i in range(0, len(lst), n):\n",
        "        yield lst[i:i + n]   \n",
        "        \n",
        "symbol_groups = list(chunks(stocks['Ticker'], 100))\n",
        "symbol_strings = []\n",
        "for i in range(0, len(symbol_groups)):\n",
        "    symbol_strings.append(','.join(symbol_groups[i]))\n",
        "#     print(symbol_strings[i])\n",
        "\n",
        "my_columns = ['Ticker', 'Price', 'One-Month Price Return', 'Number of Shares to Buy']"
      ],
      "execution_count": null,
      "outputs": []
    },
    {
      "cell_type": "code",
      "metadata": {
        "id": "S1vJ-QcznDEP"
      },
      "source": [
        "final_dataframe = pd.DataFrame(columns = my_columns)\n",
        "\n",
        "for symbol_string in symbol_strings:\n",
        "#     print(symbol_strings)\n",
        "    batch_api_call_url = f'https://sandbox.iexapis.com/stable/stock/market/batch/?types=stats,quote&symbols={symbol_string}&token={IEX_CLOUD_API_TOKEN}'\n",
        "    data = requests.get(batch_api_call_url).json()\n",
        "    for symbol in symbol_string.split(','):\n",
        "        final_dataframe = final_dataframe.append(\n",
        "                                        pd.Series([symbol, \n",
        "                                                   data[symbol]['quote']['latestPrice'],\n",
        "                                                   data[symbol]['stats']['month1ChangePercent'],\n",
        "                                                   'N/A'\n",
        "                                                   ], \n",
        "                                                  index = my_columns), \n",
        "                                        ignore_index = True)\n",
        "        \n",
        "    \n",
        "final_dataframe"
      ],
      "execution_count": null,
      "outputs": []
    },
    {
      "cell_type": "code",
      "metadata": {
        "id": "FwZnckZsnFXo"
      },
      "source": [
        "final_dataframe.sort_values('One-Month Price Return', ascending = False, inplace = True)\n",
        "final_dataframe = final_dataframe[:51]\n",
        "final_dataframe.reset_index(drop = True, inplace = True)\n",
        "final_dataframe"
      ],
      "execution_count": null,
      "outputs": []
    },
    {
      "cell_type": "code",
      "metadata": {
        "id": "GhVvjSJcnUQN"
      },
      "source": [
        "def portfolio_input():\n",
        "    global portfolio_size\n",
        "    portfolio_size = input(\"Enter the value of your portfolio:\")\n",
        "\n",
        "    try:\n",
        "        val = float(portfolio_size)\n",
        "    except ValueError:\n",
        "        print(\"That's not a number! \\n Try again:\")\n",
        "        portfolio_size = input(\"Enter the value of your portfolio:\")\n",
        "\n",
        "portfolio_input()\n",
        "print(portfolio_size)"
      ],
      "execution_count": null,
      "outputs": []
    },
    {
      "cell_type": "code",
      "metadata": {
        "id": "Hwc10A-Cnfbp"
      },
      "source": [
        "position_size = float(portfolio_size) / len(final_dataframe.index)\n",
        "for i in range(0, len(final_dataframe['Ticker'])):\n",
        "    final_dataframe.loc[i, 'Number of Shares to Buy'] = math.floor(position_size / final_dataframe['Price'][i])\n",
        "final_dataframe"
      ],
      "execution_count": null,
      "outputs": []
    },
    {
      "cell_type": "markdown",
      "metadata": {
        "id": "lyAk0e3XuZf5"
      },
      "source": [
        "## Topic 3: Quantitative Value Strategy\n",
        "\"Value investing\" means investing in the stocks that are cheapest relative to common measures of business value (like earnings or assets).\n",
        "\n",
        "For this project, we're going to build an investing strategy that selects the 50 stocks with the best value metrics. From there, we will calculate recommended trades for an equal-weight portfolio of these 50 stocks."
      ]
    },
    {
      "cell_type": "markdown",
      "metadata": {
        "id": "RyB4WX6szaMc"
      },
      "source": [
        "#### Import Libraries and Test API"
      ]
    },
    {
      "cell_type": "code",
      "metadata": {
        "id": "mcF6paCgnj6q"
      },
      "source": [
        "import numpy as np #The Numpy numerical computing library\n",
        "import pandas as pd #The Pandas data science library\n",
        "import requests #The requests library for HTTP requests in Python\n",
        "import math #The Python math module\n",
        "from scipy import stats #The SciPy stats module"
      ],
      "execution_count": null,
      "outputs": []
    },
    {
      "cell_type": "code",
      "metadata": {
        "id": "n7REFcTJpUJD"
      },
      "source": [
        "# Replace your own IEX Cloud Sandbox API\n",
        "IEX_CLOUD_API_TOKEN = 'Tpk_059b97af715d417d9f49f50b51b1c448'"
      ],
      "execution_count": null,
      "outputs": []
    },
    {
      "cell_type": "code",
      "metadata": {
        "id": "Uf1iw9weuumd"
      },
      "source": [
        "symbol = 'AAPL'\n",
        "api_url = f'https://sandbox.iexapis.com/stable/stock/{symbol}/quote?token={IEX_CLOUD_API_TOKEN}'\n",
        "data = requests.get(api_url).json()\n",
        "data"
      ],
      "execution_count": null,
      "outputs": []
    },
    {
      "cell_type": "markdown",
      "metadata": {
        "id": "l5N5QQH4zkYe"
      },
      "source": [
        "#### Parsing Our API Call to get PE Ratio\n",
        "This API call has the metric we need - the price-to-earnings ratio.\n",
        "\n",
        "Here is an example of how to parse the metric from our API call:"
      ]
    },
    {
      "cell_type": "code",
      "metadata": {
        "id": "iZU9W2pxuxze"
      },
      "source": [
        "pe_ratio = data['peRatio']\n",
        "pe_ratio"
      ],
      "execution_count": null,
      "outputs": []
    },
    {
      "cell_type": "markdown",
      "metadata": {
        "id": "xNflDdLAzx_k"
      },
      "source": [
        "#### Importing Our List of Stocks"
      ]
    },
    {
      "cell_type": "code",
      "metadata": {
        "id": "OhxMbbL-upUP"
      },
      "source": [
        "stocks = pd.read_csv('sp_500_stocks.csv')"
      ],
      "execution_count": null,
      "outputs": []
    },
    {
      "cell_type": "markdown",
      "metadata": {
        "id": "XSLzJsq0z8ML"
      },
      "source": [
        "#### Executing A Batch API Call & Building Our DataFrame\n",
        "\n",
        "It's now time to execute several batch API calls and add the information we need to our DataFrame.\n",
        "\n",
        "We'll start by running the following code cellt. It contains a function called `chunks` that we can use to divide our list of securities into groups of 100."
      ]
    },
    {
      "cell_type": "code",
      "metadata": {
        "id": "QidlEtI1urDc"
      },
      "source": [
        "def chunks(lst, n):\n",
        "    \"\"\"Yield successive n-sized chunks from lst.\"\"\"\n",
        "    for i in range(0, len(lst), n):\n",
        "        yield lst[i:i + n]   \n",
        "        \n",
        "symbol_groups = list(chunks(stocks['Ticker'], 100))\n",
        "symbol_strings = []\n",
        "for i in range(0, len(symbol_groups)):\n",
        "    symbol_strings.append(','.join(symbol_groups[i]))\n",
        "#     print(symbol_strings[i])\n",
        "\n",
        "my_columns = ['Ticker', 'Price', 'Price-to-Earnings Ratio', 'Number of Shares to Buy']"
      ],
      "execution_count": null,
      "outputs": []
    },
    {
      "cell_type": "markdown",
      "metadata": {
        "id": "33bksZtB0Due"
      },
      "source": [
        "Now we need to create a blank DataFrame and add our data to the data frame one-by-one."
      ]
    },
    {
      "cell_type": "code",
      "metadata": {
        "id": "xfH_I7-4ut83"
      },
      "source": [
        "final_dataframe = pd.DataFrame(columns = my_columns)\n",
        "\n",
        "for symbol_string in symbol_strings:\n",
        "#     print(symbol_strings)\n",
        "    batch_api_call_url = f'https://sandbox.iexapis.com/stable/stock/market/batch/?types=quote&symbols={symbol_string}&token={IEX_CLOUD_API_TOKEN}'\n",
        "    data = requests.get(batch_api_call_url).json()\n",
        "    for symbol in symbol_string.split(','):\n",
        "        final_dataframe = final_dataframe.append(\n",
        "                                        pd.Series([symbol, \n",
        "                                                   data[symbol]['quote']['latestPrice'],\n",
        "                                                   data[symbol]['quote']['peRatio'],\n",
        "                                                   'N/A'\n",
        "                                                   ], \n",
        "                                                  index = my_columns), \n",
        "                                        ignore_index = True)\n",
        "        \n",
        "    \n",
        "final_dataframe"
      ],
      "execution_count": null,
      "outputs": []
    },
    {
      "cell_type": "markdown",
      "metadata": {
        "id": "f_4-Qt0Q0ISZ"
      },
      "source": [
        "#### Removing Glamour Stocks\n",
        "\n",
        "The opposite of a \"value stock\" is a \"glamour stock\". \n",
        "\n",
        "Since the goal of this strategy is to identify the 50 best value stocks from our universe, our next step is to remove glamour stocks from the DataFrame.\n",
        "\n",
        "We'll sort the DataFrame by the stocks' price-to-earnings ratio, and drop all stocks outside the top 50."
      ]
    },
    {
      "cell_type": "code",
      "metadata": {
        "id": "NHvQyS6zvOhr"
      },
      "source": [
        "final_dataframe.sort_values('Price-to-Earnings Ratio', inplace = True)\n",
        "final_dataframe = final_dataframe[final_dataframe['Price-to-Earnings Ratio'] > 0]\n",
        "final_dataframe = final_dataframe[:50]\n",
        "final_dataframe.reset_index(inplace = True)\n",
        "final_dataframe.drop('index', axis=1, inplace = True)"
      ],
      "execution_count": null,
      "outputs": []
    },
    {
      "cell_type": "markdown",
      "metadata": {
        "id": "oDCfWsVb0O5d"
      },
      "source": [
        "#### Calculating the Number of Shares to Buy\n",
        "We now need to calculate the number of shares we need to buy. \n",
        "\n",
        "To do this, we will use the `portfolio_input` function that we created in our momentum project.\n",
        "\n",
        "I have included this function below."
      ]
    },
    {
      "cell_type": "code",
      "metadata": {
        "id": "cs7ZPJcHvYOK"
      },
      "source": [
        "def portfolio_input():\n",
        "    global portfolio_size\n",
        "    portfolio_size = input(\"Enter the value of your portfolio:\")\n",
        "\n",
        "    try:\n",
        "        val = float(portfolio_size)\n",
        "    except ValueError:\n",
        "        print(\"That's not a number! \\n Try again:\")\n",
        "        portfolio_size = input(\"Enter the value of your portfolio:\")"
      ],
      "execution_count": null,
      "outputs": []
    },
    {
      "cell_type": "code",
      "metadata": {
        "id": "jchI550_vcVK"
      },
      "source": [
        "portfolio_input()"
      ],
      "execution_count": null,
      "outputs": []
    },
    {
      "cell_type": "code",
      "metadata": {
        "id": "rNHa2ERAve8d"
      },
      "source": [
        "position_size = float(portfolio_size) / len(final_dataframe.index)\n",
        "for i in range(0, len(final_dataframe['Ticker'])):\n",
        "    final_dataframe.loc[i, 'Number of Shares to Buy'] = math.floor(position_size / final_dataframe['Price'][i])\n",
        "final_dataframe"
      ],
      "execution_count": null,
      "outputs": []
    },
    {
      "cell_type": "markdown",
      "metadata": {
        "id": "XpiK6pSR1E3U"
      },
      "source": [
        "#### Building a Better (and More Realistic) Value Strategy\n",
        "Every valuation metric has certain flaws.\n",
        "\n",
        "For example, the price-to-earnings ratio doesn't work well with stocks with negative earnings.\n",
        "\n",
        "Similarly, stocks that buyback their own shares are difficult to value using the price-to-book ratio.\n",
        "\n",
        "Investors typically use a `composite` basket of valuation metrics to build robust quantitative value strategies. In this section, we will filter for stocks with the lowest percentiles on the following metrics:\n",
        "\n",
        "* Price-to-earnings ratio\n",
        "* Price-to-book ratio\n",
        "* Price-to-sales ratio\n",
        "* Enterprise Value divided by Earnings Before Interest, Taxes, Depreciation, and Amortization (EV/EBITDA)\n",
        "* Enterprise Value divided by Gross Profit (EV/GP)\n",
        "\n",
        "Some of these metrics aren't provided directly by the IEX Cloud API, and must be computed after pulling raw data. We'll start by calculating each data point from scratch."
      ]
    },
    {
      "cell_type": "markdown",
      "metadata": {
        "id": "o1JTkg3I1fNx"
      },
      "source": [
        "Let's move on to building our DataFrame. You'll notice that I use the abbreviation rv often. It stands for robust value, which is what we'll call this sophisticated strategy moving forward."
      ]
    },
    {
      "cell_type": "code",
      "metadata": {
        "id": "aXvWyLTjviII"
      },
      "source": [
        "symbol = 'AAPL'\n",
        "batch_api_call_url = f'https://sandbox.iexapis.com/stable/stock/market/batch/?types=advanced-stats,quote&symbols={symbol}&token={IEX_CLOUD_API_TOKEN}'\n",
        "data = requests.get(batch_api_call_url).json()\n",
        "\n",
        "# P/E Ratio\n",
        "pe_ratio = data[symbol]['quote']['peRatio']\n",
        "\n",
        "# P/B Ratio\n",
        "pb_ratio = data[symbol]['advanced-stats']['priceToBook']\n",
        "\n",
        "#P/S Ratio\n",
        "ps_ratio = data[symbol]['advanced-stats']['priceToSales']\n",
        "\n",
        "# EV/EBITDA\n",
        "enterprise_value = data[symbol]['advanced-stats']['enterpriseValue']\n",
        "ebitda = data[symbol]['advanced-stats']['EBITDA']\n",
        "ev_to_ebitda = enterprise_value/ebitda\n",
        "\n",
        "# EV/GP\n",
        "gross_profit = data[symbol]['advanced-stats']['grossProfit']\n",
        "ev_to_gross_profit = enterprise_value/gross_profit"
      ],
      "execution_count": null,
      "outputs": []
    },
    {
      "cell_type": "markdown",
      "metadata": {
        "id": "83MR4TIY1-et"
      },
      "source": [
        "Let's move on to building our DataFrame. You'll notice that I use the abbreviation rv often. It stands for robust value, which is what we'll call this sophisticated strategy moving forward."
      ]
    },
    {
      "cell_type": "code",
      "metadata": {
        "id": "6RlbcaPBvrSM"
      },
      "source": [
        "rv_columns = [\n",
        "    'Ticker',\n",
        "    'Price',\n",
        "    'Number of Shares to Buy', \n",
        "    'Price-to-Earnings Ratio',\n",
        "    'PE Percentile',\n",
        "    'Price-to-Book Ratio',\n",
        "    'PB Percentile',\n",
        "    'Price-to-Sales Ratio',\n",
        "    'PS Percentile',\n",
        "    'EV/EBITDA',\n",
        "    'EV/EBITDA Percentile',\n",
        "    'EV/GP',\n",
        "    'EV/GP Percentile',\n",
        "    'RV Score'\n",
        "]\n",
        "\n",
        "rv_dataframe = pd.DataFrame(columns = rv_columns)\n",
        "\n",
        "for symbol_string in symbol_strings:\n",
        "    batch_api_call_url = f'https://sandbox.iexapis.com/stable/stock/market/batch?symbols={symbol_string}&types=quote,advanced-stats&token={IEX_CLOUD_API_TOKEN}'\n",
        "    data = requests.get(batch_api_call_url).json()\n",
        "    for symbol in symbol_string.split(','):\n",
        "        enterprise_value = data[symbol]['advanced-stats']['enterpriseValue']\n",
        "        ebitda = data[symbol]['advanced-stats']['EBITDA']\n",
        "        gross_profit = data[symbol]['advanced-stats']['grossProfit']\n",
        "        \n",
        "        try:\n",
        "            ev_to_ebitda = enterprise_value/ebitda\n",
        "        except TypeError:\n",
        "            ev_to_ebitda = np.NaN\n",
        "        \n",
        "        try:\n",
        "            ev_to_gross_profit = enterprise_value/gross_profit\n",
        "        except TypeError:\n",
        "            ev_to_gross_profit = np.NaN\n",
        "            \n",
        "        rv_dataframe = rv_dataframe.append(\n",
        "            pd.Series([\n",
        "                symbol,\n",
        "                data[symbol]['quote']['latestPrice'],\n",
        "                'N/A',\n",
        "                data[symbol]['quote']['peRatio'],\n",
        "                'N/A',\n",
        "                data[symbol]['advanced-stats']['priceToBook'],\n",
        "                'N/A',\n",
        "                data[symbol]['advanced-stats']['priceToSales'],\n",
        "                'N/A',\n",
        "                ev_to_ebitda,\n",
        "                'N/A',\n",
        "                ev_to_gross_profit,\n",
        "                'N/A',\n",
        "                'N/A'\n",
        "        ],\n",
        "        index = rv_columns),\n",
        "            ignore_index = True\n",
        "        )"
      ],
      "execution_count": null,
      "outputs": []
    },
    {
      "cell_type": "code",
      "metadata": {
        "id": "FMUrZRpwvvEV"
      },
      "source": [
        "rv_dataframe[rv_dataframe.isnull().any(axis=1)]"
      ],
      "execution_count": null,
      "outputs": []
    },
    {
      "cell_type": "markdown",
      "metadata": {
        "id": "RSe4hLeb2QIH"
      },
      "source": [
        "#### Dealing With Missing Data in Our DataFrame\n",
        "\n",
        "Our DataFrame contains some missing data because all of the metrics we require are not available through the API we're using. \n",
        "\n",
        "You can use pandas' `isnull` method to identify missing data:"
      ]
    },
    {
      "cell_type": "code",
      "metadata": {
        "id": "p1PoLq5_v0ir"
      },
      "source": [
        "for column in ['Price-to-Earnings Ratio', 'Price-to-Book Ratio','Price-to-Sales Ratio',  'EV/EBITDA','EV/GP']:\n",
        "    rv_dataframe[column].fillna(rv_dataframe[column].mean(), inplace = True)"
      ],
      "execution_count": null,
      "outputs": []
    },
    {
      "cell_type": "code",
      "metadata": {
        "id": "MYRabr-lv4U8"
      },
      "source": [
        "rv_dataframe[rv_dataframe.isnull().any(axis=1)]"
      ],
      "execution_count": null,
      "outputs": []
    },
    {
      "cell_type": "markdown",
      "metadata": {
        "id": "FUQZuuXr2z8a"
      },
      "source": [
        "#### Calculating Value Percentiles\n",
        "\n",
        "We now need to calculate value score percentiles for every stock in the universe. More specifically, we need to calculate percentile scores for the following metrics for every stock:\n",
        "\n",
        "* Price-to-earnings ratio\n",
        "* Price-to-book ratio\n",
        "* Price-to-sales ratio\n",
        "* EV/EBITDA\n",
        "* EV/GP\n",
        "\n",
        "Here's how we'll do this:"
      ]
    },
    {
      "cell_type": "code",
      "metadata": {
        "id": "F_sPKg-wv6uL"
      },
      "source": [
        "metrics = {\n",
        "            'Price-to-Earnings Ratio': 'PE Percentile',\n",
        "            'Price-to-Book Ratio':'PB Percentile',\n",
        "            'Price-to-Sales Ratio': 'PS Percentile',\n",
        "            'EV/EBITDA':'EV/EBITDA Percentile',\n",
        "            'EV/GP':'EV/GP Percentile'\n",
        "}\n",
        "\n",
        "for row in rv_dataframe.index:\n",
        "    for metric in metrics.keys():\n",
        "        rv_dataframe.loc[row, metrics[metric]] = stats.percentileofscore(rv_dataframe[metric], rv_dataframe.loc[row, metric])/100\n",
        "\n",
        "# Print each percentile score to make sure it was calculated properly\n",
        "for metric in metrics.values():\n",
        "    print(rv_dataframe[metric])\n",
        "\n",
        "#Print the entire DataFrame    \n",
        "rv_dataframe"
      ],
      "execution_count": null,
      "outputs": []
    },
    {
      "cell_type": "markdown",
      "metadata": {
        "id": "40MN9bGz3Wlt"
      },
      "source": [
        "#### Calculating the RV Score\n",
        "We'll now calculate our RV Score (which stands for Robust Value), which is the value score that we'll use to filter for stocks in this investing strategy.\n",
        "\n",
        "The RV Score will be the arithmetic mean of the 4 percentile scores that we calculated in the last section.\n",
        "\n",
        "To calculate arithmetic mean, we will use the mean function from Python's built-in statistics module."
      ]
    },
    {
      "cell_type": "code",
      "metadata": {
        "id": "LuLNNGHVv9g5"
      },
      "source": [
        "from statistics import mean\n",
        "\n",
        "for row in rv_dataframe.index:\n",
        "    value_percentiles = []\n",
        "    for metric in metrics.keys():\n",
        "        value_percentiles.append(rv_dataframe.loc[row, metrics[metric]])\n",
        "    rv_dataframe.loc[row, 'RV Score'] = mean(value_percentiles)\n",
        "    \n",
        "rv_dataframe"
      ],
      "execution_count": null,
      "outputs": []
    },
    {
      "cell_type": "markdown",
      "metadata": {
        "id": "rQ29ISHM3nUD"
      },
      "source": [
        "#### Selecting the 50 Best Value Stocks¶\n",
        "\n",
        "As before, we can identify the 50 best value stocks in our universe by sorting the DataFrame on the RV Score column and dropping all but the top 50 entries."
      ]
    },
    {
      "cell_type": "code",
      "metadata": {
        "id": "9AcpIThSwFDu"
      },
      "source": [
        "rv_dataframe.sort_values(by = 'RV Score', inplace = True)\n",
        "rv_dataframe = rv_dataframe[:50]\n",
        "rv_dataframe.reset_index(drop = True, inplace = True)"
      ],
      "execution_count": null,
      "outputs": []
    },
    {
      "cell_type": "markdown",
      "metadata": {
        "id": "CfJgH8W33q9U"
      },
      "source": [
        "#### Calculating the Number of Shares to Buy\n",
        "We'll use the `portfolio_input` function that we created earlier to accept our portfolio size. Then we will use similar logic in a for loop to calculate the number of shares to buy for each stock in our investment universe."
      ]
    },
    {
      "cell_type": "code",
      "metadata": {
        "id": "S1iWhVIGwJ3M"
      },
      "source": [
        "portfolio_input()"
      ],
      "execution_count": null,
      "outputs": []
    },
    {
      "cell_type": "code",
      "metadata": {
        "id": "enC96d3bwMDN"
      },
      "source": [
        "position_size = float(portfolio_size) / len(rv_dataframe.index)\n",
        "for i in range(0, len(rv_dataframe['Ticker'])-1):\n",
        "    rv_dataframe.loc[i, 'Number of Shares to Buy'] = math.floor(position_size / rv_dataframe['Price'][i])\n",
        "rv_dataframe"
      ],
      "execution_count": null,
      "outputs": []
    },
    {
      "cell_type": "code",
      "metadata": {
        "id": "8SoG_KGKwPNk"
      },
      "source": [
        ""
      ],
      "execution_count": null,
      "outputs": []
    },
    {
      "cell_type": "markdown",
      "metadata": {
        "id": "7GECHcV647ax"
      },
      "source": [
        "## Topic 4 Time Series Analysis"
      ]
    },
    {
      "cell_type": "code",
      "metadata": {
        "id": "mHr2-cAh_l6G"
      },
      "source": [
        "!pip install yfinance"
      ],
      "execution_count": null,
      "outputs": []
    },
    {
      "cell_type": "code",
      "metadata": {
        "id": "1c_IHu994-Go"
      },
      "source": [
        "from pandas_datareader import data as pdr\n",
        "import yfinance as yf\n",
        "yf.pdr_override()"
      ],
      "execution_count": null,
      "outputs": []
    },
    {
      "cell_type": "code",
      "metadata": {
        "id": "YvTJoz5O_uvI"
      },
      "source": [
        "ticker = \"D05.SI\"\n",
        "start = dt.datetime(2005, 1, 1)\n",
        "end = dt.datetime(2021, 9, 30)\n",
        " \n",
        "data = pdr.get_data_yahoo(ticker, start)\n",
        "\n",
        "print(data)"
      ],
      "execution_count": null,
      "outputs": []
    },
    {
      "cell_type": "code",
      "metadata": {
        "id": "pJbGfLBhHhcW"
      },
      "source": [
        "data['Adj Close'].plot(figsize=(10,6))"
      ],
      "execution_count": null,
      "outputs": []
    },
    {
      "cell_type": "code",
      "metadata": {
        "id": "MaAoYm_U6HP5"
      },
      "source": [
        "tickers = ['U11.SI', 'O39.SI', 'D05.SI']\n",
        "mydata = pd.DataFrame()\n",
        "for ticker in tickers:\n",
        "    mydata[ticker] = pdr.get_data_yahoo(ticker, start, end)['Adj Close']"
      ],
      "execution_count": null,
      "outputs": []
    },
    {
      "cell_type": "code",
      "metadata": {
        "id": "7QJ-WXcJ67ie"
      },
      "source": [
        "mydata"
      ],
      "execution_count": null,
      "outputs": []
    },
    {
      "cell_type": "code",
      "metadata": {
        "id": "pVsp2Ret_F1H"
      },
      "source": [
        "mydata.describe()"
      ],
      "execution_count": null,
      "outputs": []
    },
    {
      "cell_type": "code",
      "metadata": {
        "id": "nPVhSfinAkgN"
      },
      "source": [
        "mydata.plot(figsize=(10,6))"
      ],
      "execution_count": null,
      "outputs": []
    },
    {
      "cell_type": "code",
      "metadata": {
        "id": "d5FL3Ml6Arq9"
      },
      "source": [
        "mydata_scaled = mydata*100/mydata.iloc[0]"
      ],
      "execution_count": null,
      "outputs": []
    },
    {
      "cell_type": "code",
      "metadata": {
        "id": "QENCBdu6A9Tk"
      },
      "source": [
        "mydata_scaled.plot(figsize=(10,6))"
      ],
      "execution_count": null,
      "outputs": []
    },
    {
      "cell_type": "code",
      "metadata": {
        "id": "3dBVDTJzA_MT"
      },
      "source": [
        "mydata_log = np.log(mydata/mydata.shift(1))\n",
        "mydata_log"
      ],
      "execution_count": null,
      "outputs": []
    },
    {
      "cell_type": "code",
      "metadata": {
        "id": "0S3LAWHTCGJf"
      },
      "source": [
        "annual_log_return = round(mydata_log[tickers].mean()*252*100,3)\n",
        "annual_log_return"
      ],
      "execution_count": null,
      "outputs": []
    },
    {
      "cell_type": "code",
      "metadata": {
        "id": "Su2QjkkRChvu"
      },
      "source": [
        "annual_log_volatility = round(mydata_log[tickers].std()*(252**0.5)*100,3)\n",
        "annual_log_volatility "
      ],
      "execution_count": null,
      "outputs": []
    },
    {
      "cell_type": "code",
      "metadata": {
        "id": "xN3YrDsqDKWS"
      },
      "source": [
        "vol = mydata_log.rolling(200).std()*np.sqrt(200)\n",
        "vol.plot(figsize=(10,6))"
      ],
      "execution_count": null,
      "outputs": []
    },
    {
      "cell_type": "code",
      "metadata": {
        "id": "9Dujd4RbDgH1"
      },
      "source": [
        "summary = {\n",
        "    'Banks': ['UOB','OCBC','DBS'],\n",
        "    'Annual Log Return': annual_log_return,\n",
        "    'Annual Log Volatility': annual_log_volatility\n",
        "}"
      ],
      "execution_count": null,
      "outputs": []
    },
    {
      "cell_type": "code",
      "metadata": {
        "id": "8YBr1vv3EI4R"
      },
      "source": [
        "pd.DataFrame(summary).set_index('Banks')"
      ],
      "execution_count": null,
      "outputs": []
    },
    {
      "cell_type": "code",
      "metadata": {
        "id": "hogdxcwbEbuY"
      },
      "source": [
        ""
      ],
      "execution_count": null,
      "outputs": []
    }
  ]
}