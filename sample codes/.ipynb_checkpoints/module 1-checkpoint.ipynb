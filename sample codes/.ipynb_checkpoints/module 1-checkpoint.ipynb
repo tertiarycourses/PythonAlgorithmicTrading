{
 "cells": [
  {
   "cell_type": "markdown",
   "metadata": {},
   "source": [
    "# Module 1 Vanilla Options and Strategies"
   ]
  },
  {
   "cell_type": "markdown",
   "metadata": {},
   "source": [
    "## Black-Schole Model"
   ]
  },
  {
   "cell_type": "code",
   "execution_count": null,
   "metadata": {},
   "outputs": [],
   "source": []
  },
  {
   "cell_type": "code",
   "execution_count": 1,
   "metadata": {},
   "outputs": [],
   "source": [
    "def bs_call(S,X,T,r,sigma):\n",
    "    d1=(log(S/X)+(r+sigma*sigma/2.)*T)/(sigma*sqrt(T)) \n",
    "    d2 = d1-sigma*sqrt(T)\n",
    "    return S*stats.norm.cdf(d1)-X*exp(-r*T)*stats.norm.cdf(d2)"
   ]
  },
  {
   "cell_type": "markdown",
   "metadata": {},
   "source": [
    "### Exercise"
   ]
  },
  {
   "cell_type": "code",
   "execution_count": 2,
   "metadata": {},
   "outputs": [
    {
     "ename": "NameError",
     "evalue": "name 'log' is not defined",
     "output_type": "error",
     "traceback": [
      "\u001b[0;31m---------------------------------------------------------------------------\u001b[0m",
      "\u001b[0;31mNameError\u001b[0m                                 Traceback (most recent call last)",
      "\u001b[0;32m<ipython-input-2-958a3d404ab8>\u001b[0m in \u001b[0;36m<module>\u001b[0;34m()\u001b[0m\n\u001b[0;32m----> 1\u001b[0;31m \u001b[0mbs_call\u001b[0m\u001b[0;34m(\u001b[0m\u001b[0;36m40.\u001b[0m\u001b[0;34m,\u001b[0m\u001b[0;36m42.\u001b[0m\u001b[0;34m,\u001b[0m\u001b[0;36m0.5\u001b[0m\u001b[0;34m,\u001b[0m\u001b[0;36m0.015\u001b[0m\u001b[0;34m,\u001b[0m\u001b[0;36m0.2\u001b[0m\u001b[0;34m)\u001b[0m\u001b[0;34m\u001b[0m\u001b[0m\n\u001b[0m",
      "\u001b[0;32m<ipython-input-1-10ef16427248>\u001b[0m in \u001b[0;36mbs_call\u001b[0;34m(S, X, T, r, sigma)\u001b[0m\n\u001b[1;32m      1\u001b[0m \u001b[0;32mdef\u001b[0m \u001b[0mbs_call\u001b[0m\u001b[0;34m(\u001b[0m\u001b[0mS\u001b[0m\u001b[0;34m,\u001b[0m\u001b[0mX\u001b[0m\u001b[0;34m,\u001b[0m\u001b[0mT\u001b[0m\u001b[0;34m,\u001b[0m\u001b[0mr\u001b[0m\u001b[0;34m,\u001b[0m\u001b[0msigma\u001b[0m\u001b[0;34m)\u001b[0m\u001b[0;34m:\u001b[0m\u001b[0;34m\u001b[0m\u001b[0m\n\u001b[0;32m----> 2\u001b[0;31m     \u001b[0md1\u001b[0m\u001b[0;34m=\u001b[0m\u001b[0;34m(\u001b[0m\u001b[0mlog\u001b[0m\u001b[0;34m(\u001b[0m\u001b[0mS\u001b[0m\u001b[0;34m/\u001b[0m\u001b[0mX\u001b[0m\u001b[0;34m)\u001b[0m\u001b[0;34m+\u001b[0m\u001b[0;34m(\u001b[0m\u001b[0mr\u001b[0m\u001b[0;34m+\u001b[0m\u001b[0msigma\u001b[0m\u001b[0;34m*\u001b[0m\u001b[0msigma\u001b[0m\u001b[0;34m/\u001b[0m\u001b[0;36m2.\u001b[0m\u001b[0;34m)\u001b[0m\u001b[0;34m*\u001b[0m\u001b[0mT\u001b[0m\u001b[0;34m)\u001b[0m\u001b[0;34m/\u001b[0m\u001b[0;34m(\u001b[0m\u001b[0msigma\u001b[0m\u001b[0;34m*\u001b[0m\u001b[0msqrt\u001b[0m\u001b[0;34m(\u001b[0m\u001b[0mT\u001b[0m\u001b[0;34m)\u001b[0m\u001b[0;34m)\u001b[0m\u001b[0;34m\u001b[0m\u001b[0m\n\u001b[0m\u001b[1;32m      3\u001b[0m     \u001b[0md2\u001b[0m \u001b[0;34m=\u001b[0m \u001b[0md1\u001b[0m\u001b[0;34m-\u001b[0m\u001b[0msigma\u001b[0m\u001b[0;34m*\u001b[0m\u001b[0msqrt\u001b[0m\u001b[0;34m(\u001b[0m\u001b[0mT\u001b[0m\u001b[0;34m)\u001b[0m\u001b[0;34m\u001b[0m\u001b[0m\n\u001b[1;32m      4\u001b[0m     \u001b[0;32mreturn\u001b[0m \u001b[0mS\u001b[0m\u001b[0;34m*\u001b[0m\u001b[0mstats\u001b[0m\u001b[0;34m.\u001b[0m\u001b[0mnorm\u001b[0m\u001b[0;34m.\u001b[0m\u001b[0mcdf\u001b[0m\u001b[0;34m(\u001b[0m\u001b[0md1\u001b[0m\u001b[0;34m)\u001b[0m\u001b[0;34m-\u001b[0m\u001b[0mX\u001b[0m\u001b[0;34m*\u001b[0m\u001b[0mexp\u001b[0m\u001b[0;34m(\u001b[0m\u001b[0;34m-\u001b[0m\u001b[0mr\u001b[0m\u001b[0;34m*\u001b[0m\u001b[0mT\u001b[0m\u001b[0;34m)\u001b[0m\u001b[0;34m*\u001b[0m\u001b[0mstats\u001b[0m\u001b[0;34m.\u001b[0m\u001b[0mnorm\u001b[0m\u001b[0;34m.\u001b[0m\u001b[0mcdf\u001b[0m\u001b[0;34m(\u001b[0m\u001b[0md2\u001b[0m\u001b[0;34m)\u001b[0m\u001b[0;34m\u001b[0m\u001b[0m\n",
      "\u001b[0;31mNameError\u001b[0m: name 'log' is not defined"
     ]
    }
   ],
   "source": [
    "bs_call(40.,42.,0.5,0.015,0.2)"
   ]
  },
  {
   "cell_type": "code",
   "execution_count": null,
   "metadata": {},
   "outputs": [],
   "source": [
    "from scipy import log,exp,sqrt,stats \n",
    "def callAndPut(S,X,T,r,sigma,type='C'):\n",
    "    d1=(log(S/X)+(r+sigma*sigma/2.)*T)/(sigma*sqrt(T)) \n",
    "    d2 = d1-sigma*sqrt(T)\n",
    "    if type.upper()=='C':\n",
    "        c=S*stats.norm.cdf(d1)-X*exp(-r*T)*stats.norm.cdf(d2)\n",
    "        return c\n",
    "    else:\n",
    "        p=X*exp(-r*T)*stats.norm.cdf(-d2)-S*stats.norm.cdf(-d1)\n",
    "        return p\n"
   ]
  },
  {
   "cell_type": "code",
   "execution_count": null,
   "metadata": {},
   "outputs": [],
   "source": [
    "callAndPut(40.,42.,0.5,0.015,0.2,'P')"
   ]
  },
  {
   "cell_type": "markdown",
   "metadata": {},
   "source": [
    "## User Defined Modules"
   ]
  },
  {
   "cell_type": "code",
   "execution_count": null,
   "metadata": {},
   "outputs": [],
   "source": [
    "from p4f import *"
   ]
  },
  {
   "cell_type": "code",
   "execution_count": null,
   "metadata": {},
   "outputs": [],
   "source": [
    "s0=40\n",
    "d1=1.5\n",
    "r=0.015\n",
    "T=6/12\n",
    "s=s0-exp(-r*T*d1)\n",
    "x=42\n",
    "sigma=0.2\n",
    "bs_call(s,x,T,r,sigma)"
   ]
  },
  {
   "cell_type": "code",
   "execution_count": null,
   "metadata": {},
   "outputs": [],
   "source": [
    "bs_call(40.,42.,0.5,0.015,0.2)"
   ]
  },
  {
   "cell_type": "code",
   "execution_count": null,
   "metadata": {},
   "outputs": [],
   "source": [
    "from bs import *"
   ]
  },
  {
   "cell_type": "code",
   "execution_count": null,
   "metadata": {},
   "outputs": [],
   "source": [
    "blackScholesOptionPrice('Call', 40, 42, 0.5, 0.015, 0.2)"
   ]
  },
  {
   "cell_type": "code",
   "execution_count": null,
   "metadata": {},
   "outputs": [],
   "source": [
    "blackScholesOptionPrice('Put', 40, 42, 0.5, 0.015, 0.2)"
   ]
  },
  {
   "cell_type": "markdown",
   "metadata": {},
   "source": [
    "### Ex: Black-Scholes Model Sensitiivty"
   ]
  },
  {
   "cell_type": "code",
   "execution_count": null,
   "metadata": {},
   "outputs": [],
   "source": [
    "%matplotlib inline\n",
    "\n",
    "import numpy as np\n",
    "import matplotlib.pyplot as plt\n",
    "s0=30\n",
    "T0=0.5\n",
    "sigma0=0.2\n",
    "r0=0.05\n",
    "x0=30\n",
    "sigma=np.arange(0.05,0.8,0.05)\n",
    "T=np.arange(0.5,2.0,0.5)\n",
    "call_0=bs_call(s0,x0,T0,r0,sigma0)\n",
    "call_sigma=bs_call(s0,x0,T0,r0,sigma)\n",
    "call_T=bs_call(s0,x0,T,r0,sigma0)\n",
    "plt.title(\"Relationship between sigma and call, T and call\")\n",
    "plt.plot(sigma,call_sigma,'b')\n",
    "plt.plot(T,call_T,'r')\n",
    "plt.annotate('x=Sigma, y=call price', xy=(0.6,5), xytext=(1,6))\n",
    "plt.annotate('x=T(maturity), y=call price', xy=(1,3), xytext=(0.8,1))\n",
    "plt.ylabel(\"Call premium\")\n",
    "plt.xlabel(\"Sigma (volatility) or T(maturity) \")\n",
    "plt.show()"
   ]
  },
  {
   "cell_type": "markdown",
   "metadata": {},
   "source": [
    "## Greek Letters"
   ]
  },
  {
   "cell_type": "code",
   "execution_count": null,
   "metadata": {},
   "outputs": [],
   "source": [
    "vega = blackScholesVega('Call', 40, 42, 0.5, 0.015, 0.2)\n",
    "delta = blackScholesDelta('Call', 40, 42, 0.5, 0.015, 0.2)\n",
    "gamma = blackScholesGamma('Call', 40, 42, 0.5, 0.015, 0.2)\n",
    "\n",
    "print('Vega = ',vega)\n",
    "print('Delta = ',delta)\n",
    "print('Gamma = ',gamma)"
   ]
  },
  {
   "cell_type": "markdown",
   "metadata": {},
   "source": [
    "## European Option with Dividend"
   ]
  },
  {
   "cell_type": "code",
   "execution_count": null,
   "metadata": {},
   "outputs": [],
   "source": [
    "s0=40\n",
    "d1=1.5\n",
    "r=0.015\n",
    "T=6/12\n",
    "s=s0-exp(-r*T*d1)\n",
    "x=42\n",
    "sigma=0.2\n",
    "blackScholesOptionPrice('Call',s,x,T,r,sigma)"
   ]
  },
  {
   "cell_type": "markdown",
   "metadata": {},
   "source": [
    "## Covered Call Strategy"
   ]
  },
  {
   "cell_type": "code",
   "execution_count": null,
   "metadata": {},
   "outputs": [],
   "source": [
    "import matplotlib.pyplot as plt \n",
    "import numpy as np\n",
    "sT = np.arange(0,40,5) \n",
    "k=15;s0=10;c=2\n",
    "y0=np.zeros(len(sT))\n",
    "y1=sT-s0                    # stock only\n",
    "y2=(abs(sT-k)+sT-k)/2-c     # long a call \n",
    "y3=y1-y2                    # covered-call \n",
    "plt.ylim(-10,30)\n",
    "plt.plot(sT,y1) \n",
    "plt.plot(sT,y2) \n",
    "plt.plot(sT,y3,'red')\n",
    "plt.plot(sT,y0,'b-.') \n",
    "plt.plot([k,k],[-10,10],'black')\n",
    "plt.title('Covered call (long one share and short one call)') \n",
    "plt.xlabel('Stock price')\n",
    "plt.ylabel('Profit (loss)')\n",
    "plt.annotate('Stock only (long one share)', xy=(24,15),xytext=(15,20), arrowprops=dict(facecolor='blue',shrink=0.01),)\n",
    "plt.annotate('Long one share, short a call', xy=(10,4), xytext=(9,25), arrowprops=dict(facecolor='red',shrink=0.01),)\n",
    "plt.annotate('Exercise price= '+str(k), xy=(k+0.2,-10+0.5))\n",
    "plt.show()"
   ]
  },
  {
   "cell_type": "markdown",
   "metadata": {},
   "source": [
    "## Straddle Strategy"
   ]
  },
  {
   "cell_type": "code",
   "execution_count": null,
   "metadata": {},
   "outputs": [],
   "source": [
    "import matplotlib.pyplot as plt \n",
    "import numpy as np\n",
    "sT = np.arange(30,80,5)\n",
    "x=50;\tc=2; p=1\n",
    "straddle=(abs(sT-x)+sT-x)/2-c + (abs(x-sT)+x-sT)/2-p \n",
    "y0=np.zeros(len(sT))\n",
    "plt.ylim(-6,20) \n",
    "plt.xlim(40,70) \n",
    "plt.plot(sT,y0) \n",
    "plt.plot(sT,straddle,'r')\n",
    "plt.plot([x,x],[-6,4],'g-.')\n",
    "plt.title(\"Profit-loss for a Straddle\") \n",
    "plt.xlabel('Stock price') \n",
    "plt.ylabel('Profit (loss)')\n",
    "plt.annotate('Point 1='+str(x-c-p), xy=(x-p-c,0), xytext=(x-p-c,10),\n",
    "arrowprops=dict(facecolor='red',shrink=0.01),) \n",
    "plt.annotate('Point 2='+str(x+c+p), xy=(x+p+c,0), xytext=(x+p+c,13),\n",
    "arrowprops=dict(facecolor='blue',shrink=0.01),) \n",
    "plt.annotate('exercise price', xy=(x+1,-5))\n",
    "plt.annotate('Buy a call and buy a put with the same exercise price',xy=(45,16))\n",
    "plt.show()"
   ]
  },
  {
   "cell_type": "markdown",
   "metadata": {},
   "source": [
    "## Butterfly with Calls Strategy"
   ]
  },
  {
   "cell_type": "code",
   "execution_count": null,
   "metadata": {},
   "outputs": [],
   "source": [
    "import matplotlib.pyplot as plt \n",
    "import numpy as np\n",
    "sT = np.arange(30,80,5) \n",
    "x1=50;\tc1=10\n",
    "x2=55;\tc2=7\n",
    "x3=60;\tc3=5\n",
    "y1=(abs(sT-x1)+sT-x1)/2-c1 \n",
    "y2=(abs(sT-x2)+sT-x2)/2-c2 \n",
    "y3=(abs(sT-x3)+sT-x3)/2-c3 \n",
    "butter_fly=y1+y3-2*y2 \n",
    "y0=np.zeros(len(sT))\n",
    "plt.ylim(-20,20) \n",
    "plt.xlim(40,70) \n",
    "plt.plot(sT,y0) \n",
    "plt.plot(sT,y1) \n",
    "plt.plot(sT,-y2,'-.') \n",
    "plt.plot(sT,y3)\n",
    "plt.plot(sT,butter_fly,'r') \n",
    "plt.title(\"Profit-loss for a Butterfly\") \n",
    "plt.xlabel('Stock price')\n",
    "plt.ylabel('Profit (loss)')\n",
    "plt.annotate('Butterfly', xy=(53,3), xytext=(42,4), arrowprops=dict(facecolor='red',shrink=0.01),)\n",
    "plt.annotate('Buy 2 calls with x1, x3 and sell 2 calls with x2', xy=(45,16))\n",
    "plt.annotate('\tx2=(x1+x3)/2', xy=(45,14)) \n",
    "plt.annotate('\tx1=50, x2=55, x3=60',xy=(45,12)) \n",
    "plt.annotate('\tc1=10,c2=7, c3=5', xy=(45,10)) \n",
    "plt.show()"
   ]
  },
  {
   "cell_type": "markdown",
   "metadata": {},
   "source": [
    "## One Step Binomial Tree"
   ]
  },
  {
   "cell_type": "code",
   "execution_count": null,
   "metadata": {},
   "outputs": [],
   "source": [
    "import networkx as nx\n",
    "import matplotlib.pyplot as plt \n",
    "#\n",
    "plt.figtext(0.08,0.6,\"Stock price=$20\") \n",
    "plt.figtext(0.75,0.91,\"Stock price=$22\") \n",
    "plt.figtext(0.75,0.87,\"Option price=$1\")\n",
    "plt.figtext(0.75,0.28,\"Stock price=$18\") \n",
    "plt.figtext(0.75,0.24,\"Option price=0\") \n",
    "n=1\n",
    "def binomial_grid(n): \n",
    "    G=nx.Graph()\n",
    "    for i in range(0,n+1):\n",
    "        for j in range(1,i+2): \n",
    "            if i<n:\n",
    "                G.add_edge((i,j),(i+1,j))\n",
    "                G.add_edge((i,j),(i+1,j+1))\n",
    "    posG={}\n",
    "    for node in G.nodes(): \n",
    "        posG[node]=(node[0],n+2+node[0]-2*node[1])\n",
    "    nx.draw(G,pos=posG) \n",
    "binomial_grid(n)\n",
    "plt.show()"
   ]
  },
  {
   "cell_type": "markdown",
   "metadata": {},
   "source": [
    "## Two Step Binomial Tree"
   ]
  },
  {
   "cell_type": "code",
   "execution_count": null,
   "metadata": {},
   "outputs": [],
   "source": [
    "from math import sqrt,exp \n",
    "import matplotlib.pyplot as plt\n",
    "#\n",
    "s=10\n",
    "r=0.02\n",
    "sigma=0.2\n",
    "T=3./12\n",
    "x=10\n",
    "n=2\n",
    "deltaT=T/n\n",
    "q=0 \n",
    "u=exp(sigma*sqrt(deltaT))\n",
    "d=1/u \n",
    "a=exp((r-q)*deltaT)\n",
    "p=(a-d)/(u-d) \n",
    "su=round(s*u,2);\n",
    "suu=round(s*u*u,2) \n",
    "sd=round(s*d,2)\n",
    "sdd=round(s*d*d,2) \n",
    "sud=s\n",
    "\n",
    "plt.figtext(0.08,0.6,'Stock '+str(s)) \n",
    "plt.figtext(0.33,0.76,\"Stock price=$\"+str(su)) \n",
    "plt.figtext(0.33,0.27,'Stock price='+str(sd)) \n",
    "plt.figtext(0.75,0.91,'Stock price=$'+str(suu)) \n",
    "plt.figtext(0.75,0.6,'Stock price=$'+str(sud)) \n",
    "plt.figtext(0.75,0.28,\"Stock price=\"+str(sdd)) \n",
    "binomial_grid(n)\n",
    "plt.show()\n"
   ]
  },
  {
   "cell_type": "markdown",
   "metadata": {},
   "source": [
    "## Binomial Tree Steps"
   ]
  },
  {
   "cell_type": "code",
   "execution_count": null,
   "metadata": {},
   "outputs": [],
   "source": [
    "import scipy as sp\n",
    "import matplotlib.pyplot as plt\n",
    "#\n",
    "s=10;x=10;r=0.05;sigma=0.2;T=3./12.;n=2;q=0\t# q is dividend yield \n",
    "deltaT=T/n\t# step\n",
    "u=sp.exp(sigma*sp.sqrt(deltaT)) \n",
    "d=1/u\n",
    "a=sp.exp((r-q)*deltaT) \n",
    "p=(a-d)/(u-d)\n",
    "s_dollar='S=$'\n",
    "c_dollar='c=$' \n",
    "p2=round(p,2)\n",
    "plt.figtext(0.15,0.91,'Note: x='+str(x)+', r='+str(r)+', deltaT='+str(deltaT)+',p='+str(p2))\n",
    "plt.figtext(0.35,0.61,'p')\n",
    "plt.figtext(0.65,0.76,'p')\n",
    "plt.figtext(0.65,0.43,'p')\n",
    "plt.figtext(0.35,0.36,'1-p')\n",
    "plt.figtext(0.65,0.53,'1-p')\n",
    "plt.figtext(0.65,0.21,'1-p')\n",
    "\n",
    "# at level 2 \n",
    "su=round(s*u,2);\n",
    "suu=round(s*u*u,2) \n",
    "sd=round(s*d,2);\n",
    "sdd=round(s*d*d,2) \n",
    "sud=s\n",
    "c_suu=round(max(suu-x,0),2) \n",
    "c_s=round(max(s-x,0),2) \n",
    "c_sdd=round(max(sdd-x,0),2) \n",
    "plt.figtext(0.8,0.94,'s*u*u') \n",
    "plt.figtext(0.8,0.91,s_dollar+str(suu)) \n",
    "plt.figtext(0.8,0.87,c_dollar+str(c_suu)) \n",
    "plt.figtext(0.8,0.6,s_dollar+str(sud)) \n",
    "plt.figtext(0.8,0.64,'s*u*d=s') \n",
    "plt.figtext(0.8,0.57,c_dollar+str(c_s)) \n",
    "plt.figtext(0.8,0.32,'s*d*d') \n",
    "plt.figtext(0.8,0.28,s_dollar+str(sdd)) \n",
    "plt.figtext(0.8,0.24,c_dollar+str(c_sdd))\n",
    "\n",
    "# at level 1\n",
    "c_01=round((p*c_suu+(1-p)*c_s)*sp.exp(-r*deltaT),2) \n",
    "c_02=round((p*c_s+(1-p)*c_sdd)*sp.exp(-r*deltaT),2)\n",
    "\n",
    "plt.figtext(0.43,0.78,'s*u') \n",
    "plt.figtext(0.43,0.74,s_dollar+str(su)) \n",
    "plt.figtext(0.43,0.71,c_dollar+str(c_01)) \n",
    "plt.figtext(0.43,0.32,'s*d') \n",
    "plt.figtext(0.43,0.27,s_dollar+str(sd)) \n",
    "plt.figtext(0.43,0.23,c_dollar+str(c_02))\n",
    "# at level 0 (today)\n",
    "\n",
    "c_00=round(p*sp.exp(-r*deltaT)*c_01+(1-p)*sp.exp(-r*deltaT)*c_02,2) \n",
    "plt.figtext(0.09,0.6,s_dollar+str(s)) \n",
    "plt.figtext(0.09,0.56,c_dollar+str(c_00)) \n",
    "binomial_grid(n)\n",
    "plt.show()\n",
    "\n",
    "\n",
    "\n",
    "\n"
   ]
  },
  {
   "cell_type": "markdown",
   "metadata": {},
   "source": [
    "### Exercise"
   ]
  },
  {
   "cell_type": "code",
   "execution_count": null,
   "metadata": {},
   "outputs": [],
   "source": [
    "from p4f import *\n",
    "a = bs_call(40,42,0.5,0.1,0.2)\n",
    "b = binomialCallEuropean(40,42,0.5,0.1,0.2,1000)\n",
    "c = binomialAmericanCall(40,42,0.5,0.1,0.2,1000)\n",
    "print(a,b,c)"
   ]
  },
  {
   "cell_type": "code",
   "execution_count": null,
   "metadata": {},
   "outputs": [],
   "source": []
  }
 ],
 "metadata": {
  "kernelspec": {
   "display_name": "Python 3",
   "language": "python",
   "name": "python3"
  },
  "language_info": {
   "codemirror_mode": {
    "name": "ipython",
    "version": 3
   },
   "file_extension": ".py",
   "mimetype": "text/x-python",
   "name": "python",
   "nbconvert_exporter": "python",
   "pygments_lexer": "ipython3",
   "version": "3.6.5"
  }
 },
 "nbformat": 4,
 "nbformat_minor": 2
}
